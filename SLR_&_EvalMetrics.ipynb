{
 "cells": [
  {
   "cell_type": "markdown",
   "metadata": {},
   "source": [
    "# **Simple Linear Regression**\n",
    "<hr>\n",
    "\n",
    "**Tujuan Instruksional Umum:**\n",
    "1. Peserta mampu membuat program untuk memberikan prediksi berdasarkan data numerikal (continuous).\n",
    "2. Peserta mampu mengevaluasi model machine learning berdasarkan evaluation metrics\n",
    "\n",
    "**Target Pertemuan**: \n",
    "1. Peserta mampu membuat prediksi data numerik menggunakan Simple Linear Regression.\n",
    "2. Peserta mampu mengevaluasi model prediksi regresi menggunakan evaluation metric seperti MSE, RMSE, MAE, Med AE, dan R2 Score.\n",
    "\n",
    "<hr>\n",
    "\n",
    "Simple linear regression is an approach for predicting a response using a single feature.\n",
    "\n",
    "It is assumed that the two variables are linearly related. Hence, we try to find a linear function that predicts the response value(y) as accurately as possible as a function of the feature or independent variable(x).\n",
    "\n",
    "Linear relationship basically means that when one (or more) independent variables increases (or decreases), the dependent variable increases (or decreases) too:\n",
    "\n",
    "<img src='f_img.png'>\n",
    "\n",
    "As you can see, a linear relationship can be positive (independent variable goes up, dependent variable goes up) or negative (independent variable goes up, dependent variable goes down).\n",
    "\n",
    "**Applications:**\n",
    "\n",
    "1. **Trend lines**: A trend line represents the variation in some quantitative data with passage of time (like GDP, oil prices, etc.). These trends usually follow a linear relationship. Hence, linear regression can be applied to predict future values. However, this method suffers from a lack of scientific validity in cases where other potential changes can affect the data.\n",
    "\n",
    "2. **Economics**: Linear regression is the predominant empirical tool in economics. For example, it is used to predict consumption spending, fixed investment spending, inventory investment, purchases of a country’s exports, spending on imports, the demand to hold liquid assets, labor demand, and labor supply.\n",
    "\n",
    "3. **Finance**: Capital price asset model uses linear regression to analyze and quantify the systematic risks of an investment.\n",
    "\n",
    "4. **Biology**: Linear regression is used to model causal relationships between parameters in biological systems."
   ]
  },
  {
   "cell_type": "markdown",
   "metadata": {},
   "source": [
    "## **Linear Regression Theory**\n",
    "The term “linearity” in algebra refers to a ``linear relationship`` between two or more variables. If we draw this relationship in a two-dimensional space (between two variables), we get a straight line.\n",
    "\n",
    "Linear regression performs the task to predict a dependent variable value (y) based on a given independent variable (x). So, this regression technique finds out a ``linear relationship between x (input) and y (output)``. Hence, the name is Linear Regression. If we plot the independent variable (x) on the x-axis and dependent variable (y) on the y-axis, linear regression gives us a straight line that best fits the data points, as shown in the figure below.\n",
    "\n",
    "We know that the equation of a straight line is basically:\n",
    "\n",
    "<img src='a_img.png' width=550 height=550>"
   ]
  },
  {
   "cell_type": "markdown",
   "metadata": {},
   "source": [
    "The equation of the above line is :\n",
    "\n",
    "## **``Y = mx + c``**\n",
    "\n",
    "Where:\n",
    "### **c is the ``intercept``**\n",
    "### **m is the ``slope``** of the line. \n",
    "\n",
    "So basically, the linear regression algorithm gives us the most optimal value for the intercept and the slope (in two dimensions). The y and x variables remain the same, since they are the data features and cannot be changed. The values that we can control are the intercept (b) and slope (m). There can be multiple straight lines depending upon the values of intercept and slope. Basically what the linear regression algorithm does is it fits multiple lines on the data points and returns the line that results in the least error.\n",
    "\n",
    "<img src= 'b_img.gif'>"
   ]
  },
  {
   "cell_type": "markdown",
   "metadata": {},
   "source": [
    "<hr>\n",
    "\n",
    "## __``Melbourne House Dataset``__"
   ]
  },
  {
   "cell_type": "markdown",
   "metadata": {},
   "source": [
    "## Import Library"
   ]
  },
  {
   "cell_type": "code",
   "execution_count": 1,
   "metadata": {},
   "outputs": [],
   "source": [
    "import pandas as pd\n",
    "import numpy as np\n",
    "import matplotlib.pyplot as plt\n",
    "import seaborn as sns\n",
    "\n",
    "from sklearn.model_selection import train_test_split\n",
    "from sklearn.linear_model import LinearRegression\n",
    "from sklearn import metrics\n",
    "%matplotlib inline"
   ]
  },
  {
   "cell_type": "code",
   "execution_count": 2,
   "metadata": {},
   "outputs": [
    {
     "data": {
      "text/html": [
       "<div>\n",
       "<style scoped>\n",
       "    .dataframe tbody tr th:only-of-type {\n",
       "        vertical-align: middle;\n",
       "    }\n",
       "\n",
       "    .dataframe tbody tr th {\n",
       "        vertical-align: top;\n",
       "    }\n",
       "\n",
       "    .dataframe thead th {\n",
       "        text-align: right;\n",
       "    }\n",
       "</style>\n",
       "<table border=\"1\" class=\"dataframe\">\n",
       "  <thead>\n",
       "    <tr style=\"text-align: right;\">\n",
       "      <th></th>\n",
       "      <th>Suburb</th>\n",
       "      <th>Address</th>\n",
       "      <th>Rooms</th>\n",
       "      <th>Type</th>\n",
       "      <th>Price</th>\n",
       "      <th>Method</th>\n",
       "      <th>SellerG</th>\n",
       "      <th>Date</th>\n",
       "      <th>Distance</th>\n",
       "      <th>Postcode</th>\n",
       "      <th>...</th>\n",
       "      <th>Bathroom</th>\n",
       "      <th>Car</th>\n",
       "      <th>Landsize</th>\n",
       "      <th>BuildingArea</th>\n",
       "      <th>YearBuilt</th>\n",
       "      <th>CouncilArea</th>\n",
       "      <th>Lattitude</th>\n",
       "      <th>Longtitude</th>\n",
       "      <th>Regionname</th>\n",
       "      <th>Propertycount</th>\n",
       "    </tr>\n",
       "  </thead>\n",
       "  <tbody>\n",
       "    <tr>\n",
       "      <th>0</th>\n",
       "      <td>Abbotsford</td>\n",
       "      <td>85 Turner St</td>\n",
       "      <td>2</td>\n",
       "      <td>h</td>\n",
       "      <td>1480000.0</td>\n",
       "      <td>S</td>\n",
       "      <td>Biggin</td>\n",
       "      <td>3/12/2016</td>\n",
       "      <td>2.5</td>\n",
       "      <td>3067.0</td>\n",
       "      <td>...</td>\n",
       "      <td>1.0</td>\n",
       "      <td>1.0</td>\n",
       "      <td>202.0</td>\n",
       "      <td>NaN</td>\n",
       "      <td>NaN</td>\n",
       "      <td>Yarra</td>\n",
       "      <td>-37.7996</td>\n",
       "      <td>144.9984</td>\n",
       "      <td>Northern Metropolitan</td>\n",
       "      <td>4019.0</td>\n",
       "    </tr>\n",
       "    <tr>\n",
       "      <th>1</th>\n",
       "      <td>Abbotsford</td>\n",
       "      <td>25 Bloomburg St</td>\n",
       "      <td>2</td>\n",
       "      <td>h</td>\n",
       "      <td>1035000.0</td>\n",
       "      <td>S</td>\n",
       "      <td>Biggin</td>\n",
       "      <td>4/02/2016</td>\n",
       "      <td>2.5</td>\n",
       "      <td>3067.0</td>\n",
       "      <td>...</td>\n",
       "      <td>1.0</td>\n",
       "      <td>0.0</td>\n",
       "      <td>156.0</td>\n",
       "      <td>79.0</td>\n",
       "      <td>1900.0</td>\n",
       "      <td>Yarra</td>\n",
       "      <td>-37.8079</td>\n",
       "      <td>144.9934</td>\n",
       "      <td>Northern Metropolitan</td>\n",
       "      <td>4019.0</td>\n",
       "    </tr>\n",
       "    <tr>\n",
       "      <th>2</th>\n",
       "      <td>Abbotsford</td>\n",
       "      <td>5 Charles St</td>\n",
       "      <td>3</td>\n",
       "      <td>h</td>\n",
       "      <td>1465000.0</td>\n",
       "      <td>SP</td>\n",
       "      <td>Biggin</td>\n",
       "      <td>4/03/2017</td>\n",
       "      <td>2.5</td>\n",
       "      <td>3067.0</td>\n",
       "      <td>...</td>\n",
       "      <td>2.0</td>\n",
       "      <td>0.0</td>\n",
       "      <td>134.0</td>\n",
       "      <td>150.0</td>\n",
       "      <td>1900.0</td>\n",
       "      <td>Yarra</td>\n",
       "      <td>-37.8093</td>\n",
       "      <td>144.9944</td>\n",
       "      <td>Northern Metropolitan</td>\n",
       "      <td>4019.0</td>\n",
       "    </tr>\n",
       "    <tr>\n",
       "      <th>3</th>\n",
       "      <td>Abbotsford</td>\n",
       "      <td>40 Federation La</td>\n",
       "      <td>3</td>\n",
       "      <td>h</td>\n",
       "      <td>850000.0</td>\n",
       "      <td>PI</td>\n",
       "      <td>Biggin</td>\n",
       "      <td>4/03/2017</td>\n",
       "      <td>2.5</td>\n",
       "      <td>3067.0</td>\n",
       "      <td>...</td>\n",
       "      <td>2.0</td>\n",
       "      <td>1.0</td>\n",
       "      <td>94.0</td>\n",
       "      <td>NaN</td>\n",
       "      <td>NaN</td>\n",
       "      <td>Yarra</td>\n",
       "      <td>-37.7969</td>\n",
       "      <td>144.9969</td>\n",
       "      <td>Northern Metropolitan</td>\n",
       "      <td>4019.0</td>\n",
       "    </tr>\n",
       "    <tr>\n",
       "      <th>4</th>\n",
       "      <td>Abbotsford</td>\n",
       "      <td>55a Park St</td>\n",
       "      <td>4</td>\n",
       "      <td>h</td>\n",
       "      <td>1600000.0</td>\n",
       "      <td>VB</td>\n",
       "      <td>Nelson</td>\n",
       "      <td>4/06/2016</td>\n",
       "      <td>2.5</td>\n",
       "      <td>3067.0</td>\n",
       "      <td>...</td>\n",
       "      <td>1.0</td>\n",
       "      <td>2.0</td>\n",
       "      <td>120.0</td>\n",
       "      <td>142.0</td>\n",
       "      <td>2014.0</td>\n",
       "      <td>Yarra</td>\n",
       "      <td>-37.8072</td>\n",
       "      <td>144.9941</td>\n",
       "      <td>Northern Metropolitan</td>\n",
       "      <td>4019.0</td>\n",
       "    </tr>\n",
       "  </tbody>\n",
       "</table>\n",
       "<p>5 rows × 21 columns</p>\n",
       "</div>"
      ],
      "text/plain": [
       "       Suburb           Address  Rooms Type      Price Method SellerG  \\\n",
       "0  Abbotsford      85 Turner St      2    h  1480000.0      S  Biggin   \n",
       "1  Abbotsford   25 Bloomburg St      2    h  1035000.0      S  Biggin   \n",
       "2  Abbotsford      5 Charles St      3    h  1465000.0     SP  Biggin   \n",
       "3  Abbotsford  40 Federation La      3    h   850000.0     PI  Biggin   \n",
       "4  Abbotsford       55a Park St      4    h  1600000.0     VB  Nelson   \n",
       "\n",
       "        Date  Distance  Postcode  ...  Bathroom  Car  Landsize  BuildingArea  \\\n",
       "0  3/12/2016       2.5    3067.0  ...       1.0  1.0     202.0           NaN   \n",
       "1  4/02/2016       2.5    3067.0  ...       1.0  0.0     156.0          79.0   \n",
       "2  4/03/2017       2.5    3067.0  ...       2.0  0.0     134.0         150.0   \n",
       "3  4/03/2017       2.5    3067.0  ...       2.0  1.0      94.0           NaN   \n",
       "4  4/06/2016       2.5    3067.0  ...       1.0  2.0     120.0         142.0   \n",
       "\n",
       "   YearBuilt  CouncilArea Lattitude  Longtitude             Regionname  \\\n",
       "0        NaN        Yarra  -37.7996    144.9984  Northern Metropolitan   \n",
       "1     1900.0        Yarra  -37.8079    144.9934  Northern Metropolitan   \n",
       "2     1900.0        Yarra  -37.8093    144.9944  Northern Metropolitan   \n",
       "3        NaN        Yarra  -37.7969    144.9969  Northern Metropolitan   \n",
       "4     2014.0        Yarra  -37.8072    144.9941  Northern Metropolitan   \n",
       "\n",
       "  Propertycount  \n",
       "0        4019.0  \n",
       "1        4019.0  \n",
       "2        4019.0  \n",
       "3        4019.0  \n",
       "4        4019.0  \n",
       "\n",
       "[5 rows x 21 columns]"
      ]
     },
     "execution_count": 2,
     "metadata": {},
     "output_type": "execute_result"
    }
   ],
   "source": [
    "df = pd.read_csv('melb_data.csv')\n",
    "df.head()"
   ]
  },
  {
   "cell_type": "code",
   "execution_count": 3,
   "metadata": {},
   "outputs": [
    {
     "data": {
      "text/plain": [
       "Suburb              0\n",
       "Address             0\n",
       "Rooms               0\n",
       "Type                0\n",
       "Price               0\n",
       "Method              0\n",
       "SellerG             0\n",
       "Date                0\n",
       "Distance            0\n",
       "Postcode            0\n",
       "Bedroom2            0\n",
       "Bathroom            0\n",
       "Car                62\n",
       "Landsize            0\n",
       "BuildingArea     6450\n",
       "YearBuilt        5375\n",
       "CouncilArea      1369\n",
       "Lattitude           0\n",
       "Longtitude          0\n",
       "Regionname          0\n",
       "Propertycount       0\n",
       "dtype: int64"
      ]
     },
     "execution_count": 3,
     "metadata": {},
     "output_type": "execute_result"
    }
   ],
   "source": [
    "df.isna().sum()"
   ]
  },
  {
   "cell_type": "code",
   "execution_count": 4,
   "metadata": {},
   "outputs": [],
   "source": [
    "df.dropna(inplace=True)"
   ]
  },
  {
   "cell_type": "code",
   "execution_count": 5,
   "metadata": {},
   "outputs": [
    {
     "name": "stdout",
     "output_type": "stream",
     "text": [
      "<class 'pandas.core.frame.DataFrame'>\n",
      "Int64Index: 6196 entries, 1 to 12212\n",
      "Data columns (total 21 columns):\n",
      " #   Column         Non-Null Count  Dtype  \n",
      "---  ------         --------------  -----  \n",
      " 0   Suburb         6196 non-null   object \n",
      " 1   Address        6196 non-null   object \n",
      " 2   Rooms          6196 non-null   int64  \n",
      " 3   Type           6196 non-null   object \n",
      " 4   Price          6196 non-null   float64\n",
      " 5   Method         6196 non-null   object \n",
      " 6   SellerG        6196 non-null   object \n",
      " 7   Date           6196 non-null   object \n",
      " 8   Distance       6196 non-null   float64\n",
      " 9   Postcode       6196 non-null   float64\n",
      " 10  Bedroom2       6196 non-null   float64\n",
      " 11  Bathroom       6196 non-null   float64\n",
      " 12  Car            6196 non-null   float64\n",
      " 13  Landsize       6196 non-null   float64\n",
      " 14  BuildingArea   6196 non-null   float64\n",
      " 15  YearBuilt      6196 non-null   float64\n",
      " 16  CouncilArea    6196 non-null   object \n",
      " 17  Lattitude      6196 non-null   float64\n",
      " 18  Longtitude     6196 non-null   float64\n",
      " 19  Regionname     6196 non-null   object \n",
      " 20  Propertycount  6196 non-null   float64\n",
      "dtypes: float64(12), int64(1), object(8)\n",
      "memory usage: 871.3+ KB\n"
     ]
    }
   ],
   "source": [
    "df.info()"
   ]
  },
  {
   "cell_type": "code",
   "execution_count": 6,
   "metadata": {},
   "outputs": [
    {
     "data": {
      "text/html": [
       "<div>\n",
       "<style scoped>\n",
       "    .dataframe tbody tr th:only-of-type {\n",
       "        vertical-align: middle;\n",
       "    }\n",
       "\n",
       "    .dataframe tbody tr th {\n",
       "        vertical-align: top;\n",
       "    }\n",
       "\n",
       "    .dataframe thead th {\n",
       "        text-align: right;\n",
       "    }\n",
       "</style>\n",
       "<table border=\"1\" class=\"dataframe\">\n",
       "  <thead>\n",
       "    <tr style=\"text-align: right;\">\n",
       "      <th></th>\n",
       "      <th>Rooms</th>\n",
       "      <th>Price</th>\n",
       "      <th>Distance</th>\n",
       "      <th>Postcode</th>\n",
       "      <th>Bedroom2</th>\n",
       "      <th>Bathroom</th>\n",
       "      <th>Car</th>\n",
       "      <th>Landsize</th>\n",
       "      <th>BuildingArea</th>\n",
       "      <th>YearBuilt</th>\n",
       "      <th>Lattitude</th>\n",
       "      <th>Longtitude</th>\n",
       "      <th>Propertycount</th>\n",
       "    </tr>\n",
       "  </thead>\n",
       "  <tbody>\n",
       "    <tr>\n",
       "      <th>Rooms</th>\n",
       "      <td>1.000000</td>\n",
       "      <td>0.533505</td>\n",
       "      <td>0.283885</td>\n",
       "      <td>0.051237</td>\n",
       "      <td>0.951793</td>\n",
       "      <td>0.613853</td>\n",
       "      <td>0.422526</td>\n",
       "      <td>0.098755</td>\n",
       "      <td>0.608215</td>\n",
       "      <td>-0.068122</td>\n",
       "      <td>0.016049</td>\n",
       "      <td>0.088031</td>\n",
       "      <td>-0.111422</td>\n",
       "    </tr>\n",
       "    <tr>\n",
       "      <th>Price</th>\n",
       "      <td>0.533505</td>\n",
       "      <td>1.000000</td>\n",
       "      <td>-0.148867</td>\n",
       "      <td>0.125539</td>\n",
       "      <td>0.514561</td>\n",
       "      <td>0.503922</td>\n",
       "      <td>0.261507</td>\n",
       "      <td>0.081419</td>\n",
       "      <td>0.530574</td>\n",
       "      <td>-0.304633</td>\n",
       "      <td>-0.213574</td>\n",
       "      <td>0.211760</td>\n",
       "      <td>-0.046410</td>\n",
       "    </tr>\n",
       "    <tr>\n",
       "      <th>Distance</th>\n",
       "      <td>0.283885</td>\n",
       "      <td>-0.148867</td>\n",
       "      <td>1.000000</td>\n",
       "      <td>0.405729</td>\n",
       "      <td>0.290242</td>\n",
       "      <td>0.124530</td>\n",
       "      <td>0.273615</td>\n",
       "      <td>0.059369</td>\n",
       "      <td>0.159603</td>\n",
       "      <td>0.246291</td>\n",
       "      <td>-0.094494</td>\n",
       "      <td>0.221861</td>\n",
       "      <td>-0.083969</td>\n",
       "    </tr>\n",
       "    <tr>\n",
       "      <th>Postcode</th>\n",
       "      <td>0.051237</td>\n",
       "      <td>0.125539</td>\n",
       "      <td>0.405729</td>\n",
       "      <td>1.000000</td>\n",
       "      <td>0.053770</td>\n",
       "      <td>0.109804</td>\n",
       "      <td>0.043713</td>\n",
       "      <td>0.025807</td>\n",
       "      <td>0.078483</td>\n",
       "      <td>0.024375</td>\n",
       "      <td>-0.425172</td>\n",
       "      <td>0.471305</td>\n",
       "      <td>0.064534</td>\n",
       "    </tr>\n",
       "    <tr>\n",
       "      <th>Bedroom2</th>\n",
       "      <td>0.951793</td>\n",
       "      <td>0.514561</td>\n",
       "      <td>0.290242</td>\n",
       "      <td>0.053770</td>\n",
       "      <td>1.000000</td>\n",
       "      <td>0.617751</td>\n",
       "      <td>0.425726</td>\n",
       "      <td>0.097172</td>\n",
       "      <td>0.593000</td>\n",
       "      <td>-0.056343</td>\n",
       "      <td>0.021309</td>\n",
       "      <td>0.085895</td>\n",
       "      <td>-0.109401</td>\n",
       "    </tr>\n",
       "    <tr>\n",
       "      <th>Bathroom</th>\n",
       "      <td>0.613853</td>\n",
       "      <td>0.503922</td>\n",
       "      <td>0.124530</td>\n",
       "      <td>0.109804</td>\n",
       "      <td>0.617751</td>\n",
       "      <td>1.000000</td>\n",
       "      <td>0.340808</td>\n",
       "      <td>0.076295</td>\n",
       "      <td>0.534425</td>\n",
       "      <td>0.157820</td>\n",
       "      <td>-0.072020</td>\n",
       "      <td>0.116103</td>\n",
       "      <td>-0.067126</td>\n",
       "    </tr>\n",
       "    <tr>\n",
       "      <th>Car</th>\n",
       "      <td>0.422526</td>\n",
       "      <td>0.261507</td>\n",
       "      <td>0.273615</td>\n",
       "      <td>0.043713</td>\n",
       "      <td>0.425726</td>\n",
       "      <td>0.340808</td>\n",
       "      <td>1.000000</td>\n",
       "      <td>0.117647</td>\n",
       "      <td>0.334282</td>\n",
       "      <td>0.108714</td>\n",
       "      <td>0.011973</td>\n",
       "      <td>0.054699</td>\n",
       "      <td>-0.046487</td>\n",
       "    </tr>\n",
       "    <tr>\n",
       "      <th>Landsize</th>\n",
       "      <td>0.098755</td>\n",
       "      <td>0.081419</td>\n",
       "      <td>0.059369</td>\n",
       "      <td>0.025807</td>\n",
       "      <td>0.097172</td>\n",
       "      <td>0.076295</td>\n",
       "      <td>0.117647</td>\n",
       "      <td>1.000000</td>\n",
       "      <td>0.084825</td>\n",
       "      <td>0.026518</td>\n",
       "      <td>0.005610</td>\n",
       "      <td>0.032918</td>\n",
       "      <td>-0.017784</td>\n",
       "    </tr>\n",
       "    <tr>\n",
       "      <th>BuildingArea</th>\n",
       "      <td>0.608215</td>\n",
       "      <td>0.530574</td>\n",
       "      <td>0.159603</td>\n",
       "      <td>0.078483</td>\n",
       "      <td>0.593000</td>\n",
       "      <td>0.534425</td>\n",
       "      <td>0.334282</td>\n",
       "      <td>0.084825</td>\n",
       "      <td>1.000000</td>\n",
       "      <td>0.005836</td>\n",
       "      <td>-0.037904</td>\n",
       "      <td>0.103613</td>\n",
       "      <td>-0.066144</td>\n",
       "    </tr>\n",
       "    <tr>\n",
       "      <th>YearBuilt</th>\n",
       "      <td>-0.068122</td>\n",
       "      <td>-0.304633</td>\n",
       "      <td>0.246291</td>\n",
       "      <td>0.024375</td>\n",
       "      <td>-0.056343</td>\n",
       "      <td>0.157820</td>\n",
       "      <td>0.108714</td>\n",
       "      <td>0.026518</td>\n",
       "      <td>0.005836</td>\n",
       "      <td>1.000000</td>\n",
       "      <td>0.057108</td>\n",
       "      <td>-0.002114</td>\n",
       "      <td>-0.000797</td>\n",
       "    </tr>\n",
       "    <tr>\n",
       "      <th>Lattitude</th>\n",
       "      <td>0.016049</td>\n",
       "      <td>-0.213574</td>\n",
       "      <td>-0.094494</td>\n",
       "      <td>-0.425172</td>\n",
       "      <td>0.021309</td>\n",
       "      <td>-0.072020</td>\n",
       "      <td>0.011973</td>\n",
       "      <td>0.005610</td>\n",
       "      <td>-0.037904</td>\n",
       "      <td>0.057108</td>\n",
       "      <td>1.000000</td>\n",
       "      <td>-0.357988</td>\n",
       "      <td>0.057225</td>\n",
       "    </tr>\n",
       "    <tr>\n",
       "      <th>Longtitude</th>\n",
       "      <td>0.088031</td>\n",
       "      <td>0.211760</td>\n",
       "      <td>0.221861</td>\n",
       "      <td>0.471305</td>\n",
       "      <td>0.085895</td>\n",
       "      <td>0.116103</td>\n",
       "      <td>0.054699</td>\n",
       "      <td>0.032918</td>\n",
       "      <td>0.103613</td>\n",
       "      <td>-0.002114</td>\n",
       "      <td>-0.357988</td>\n",
       "      <td>1.000000</td>\n",
       "      <td>0.073856</td>\n",
       "    </tr>\n",
       "    <tr>\n",
       "      <th>Propertycount</th>\n",
       "      <td>-0.111422</td>\n",
       "      <td>-0.046410</td>\n",
       "      <td>-0.083969</td>\n",
       "      <td>0.064534</td>\n",
       "      <td>-0.109401</td>\n",
       "      <td>-0.067126</td>\n",
       "      <td>-0.046487</td>\n",
       "      <td>-0.017784</td>\n",
       "      <td>-0.066144</td>\n",
       "      <td>-0.000797</td>\n",
       "      <td>0.057225</td>\n",
       "      <td>0.073856</td>\n",
       "      <td>1.000000</td>\n",
       "    </tr>\n",
       "  </tbody>\n",
       "</table>\n",
       "</div>"
      ],
      "text/plain": [
       "                  Rooms     Price  Distance  Postcode  Bedroom2  Bathroom  \\\n",
       "Rooms          1.000000  0.533505  0.283885  0.051237  0.951793  0.613853   \n",
       "Price          0.533505  1.000000 -0.148867  0.125539  0.514561  0.503922   \n",
       "Distance       0.283885 -0.148867  1.000000  0.405729  0.290242  0.124530   \n",
       "Postcode       0.051237  0.125539  0.405729  1.000000  0.053770  0.109804   \n",
       "Bedroom2       0.951793  0.514561  0.290242  0.053770  1.000000  0.617751   \n",
       "Bathroom       0.613853  0.503922  0.124530  0.109804  0.617751  1.000000   \n",
       "Car            0.422526  0.261507  0.273615  0.043713  0.425726  0.340808   \n",
       "Landsize       0.098755  0.081419  0.059369  0.025807  0.097172  0.076295   \n",
       "BuildingArea   0.608215  0.530574  0.159603  0.078483  0.593000  0.534425   \n",
       "YearBuilt     -0.068122 -0.304633  0.246291  0.024375 -0.056343  0.157820   \n",
       "Lattitude      0.016049 -0.213574 -0.094494 -0.425172  0.021309 -0.072020   \n",
       "Longtitude     0.088031  0.211760  0.221861  0.471305  0.085895  0.116103   \n",
       "Propertycount -0.111422 -0.046410 -0.083969  0.064534 -0.109401 -0.067126   \n",
       "\n",
       "                    Car  Landsize  BuildingArea  YearBuilt  Lattitude  \\\n",
       "Rooms          0.422526  0.098755      0.608215  -0.068122   0.016049   \n",
       "Price          0.261507  0.081419      0.530574  -0.304633  -0.213574   \n",
       "Distance       0.273615  0.059369      0.159603   0.246291  -0.094494   \n",
       "Postcode       0.043713  0.025807      0.078483   0.024375  -0.425172   \n",
       "Bedroom2       0.425726  0.097172      0.593000  -0.056343   0.021309   \n",
       "Bathroom       0.340808  0.076295      0.534425   0.157820  -0.072020   \n",
       "Car            1.000000  0.117647      0.334282   0.108714   0.011973   \n",
       "Landsize       0.117647  1.000000      0.084825   0.026518   0.005610   \n",
       "BuildingArea   0.334282  0.084825      1.000000   0.005836  -0.037904   \n",
       "YearBuilt      0.108714  0.026518      0.005836   1.000000   0.057108   \n",
       "Lattitude      0.011973  0.005610     -0.037904   0.057108   1.000000   \n",
       "Longtitude     0.054699  0.032918      0.103613  -0.002114  -0.357988   \n",
       "Propertycount -0.046487 -0.017784     -0.066144  -0.000797   0.057225   \n",
       "\n",
       "               Longtitude  Propertycount  \n",
       "Rooms            0.088031      -0.111422  \n",
       "Price            0.211760      -0.046410  \n",
       "Distance         0.221861      -0.083969  \n",
       "Postcode         0.471305       0.064534  \n",
       "Bedroom2         0.085895      -0.109401  \n",
       "Bathroom         0.116103      -0.067126  \n",
       "Car              0.054699      -0.046487  \n",
       "Landsize         0.032918      -0.017784  \n",
       "BuildingArea     0.103613      -0.066144  \n",
       "YearBuilt       -0.002114      -0.000797  \n",
       "Lattitude       -0.357988       0.057225  \n",
       "Longtitude       1.000000       0.073856  \n",
       "Propertycount    0.073856       1.000000  "
      ]
     },
     "execution_count": 6,
     "metadata": {},
     "output_type": "execute_result"
    }
   ],
   "source": [
    "df.corr()"
   ]
  },
  {
   "cell_type": "code",
   "execution_count": 13,
   "metadata": {},
   "outputs": [
    {
     "data": {
      "image/png": "[encoded data removed]",
      "text/plain": [
       "<Figure size 720x720 with 2 Axes>"
      ]
     },
     "metadata": {
      "needs_background": "light"
     },
     "output_type": "display_data"
    }
   ],
   "source": [
    "corr = df.corr()\n",
    "fig, ax = plt.subplots(figsize = (10,10))\n",
    "colormap = sns.diverging_palette(220, 10, as_cmap=True)\n",
    "dropSelf = np.zeros_like(corr)\n",
    "dropSelf[np.triu_indices_from(dropSelf)] = True\n",
    "colormap = sns.diverging_palette(220, 10, as_cmap = True)\n",
    "sns.heatmap(corr, cmap=colormap, linewidths=0.5, annot=True, fmt=\".2f\", mask=dropSelf)\n",
    "plt.show()"
   ]
  },
  {
   "cell_type": "markdown",
   "metadata": {},
   "source": [
    "### **Memisahkan feature/variabel independen (x) dengan target/variabel dependen (y)**"
   ]
  },
  {
   "cell_type": "code",
   "execution_count": 14,
   "metadata": {},
   "outputs": [],
   "source": [
    "X = df['BuildingArea'].values.reshape(-1,1)\n",
    "y = df['Price'].values.reshape(-1,1)"
   ]
  },
  {
   "cell_type": "markdown",
   "metadata": {},
   "source": [
    "### __Visualisasi hubungan feature/variabel independen (x) dengan target/variabel dependen (y)__"
   ]
  },
  {
   "cell_type": "code",
   "execution_count": 16,
   "metadata": {},
   "outputs": [
    {
     "data": {
      "text/plain": [
       "Text(0.5, 1.0, 'Hubungan BuildingArea dan Price')"
      ]
     },
     "execution_count": 16,
     "metadata": {},
     "output_type": "execute_result"
    },
    {
     "data": {
      "image/png": "[encoded data removed]",
      "text/plain": [
       "<Figure size 432x288 with 1 Axes>"
      ]
     },
     "metadata": {},
     "output_type": "display_data"
    }
   ],
   "source": [
    "plt.style.use('seaborn-whitegrid')\n",
    "plt.plot(X, y, 'o', color='blue')\n",
    "plt.title('Hubungan BuildingArea dan Price')"
   ]
  },
  {
   "cell_type": "markdown",
   "metadata": {},
   "source": [
    "### __Memisahkan Data (_Splitting_) menjadi Data Train dan Data Test__"
   ]
  },
  {
   "cell_type": "code",
   "execution_count": 17,
   "metadata": {},
   "outputs": [],
   "source": [
    "X_train, X_test, y_train, y_test = train_test_split(X, y, test_size=0.2, random_state=0)"
   ]
  },
  {
   "cell_type": "markdown",
   "metadata": {},
   "source": [
    "### __Training Model dengan Data Train__"
   ]
  },
  {
   "cell_type": "code",
   "execution_count": 23,
   "metadata": {},
   "outputs": [
    {
     "data": {
      "text/plain": [
       "LinearRegression(copy_X=True, fit_intercept=True, n_jobs=None, normalize=False)"
      ]
     },
     "execution_count": 23,
     "metadata": {},
     "output_type": "execute_result"
    }
   ],
   "source": [
    "regressor = LinearRegression()\n",
    "regressor.fit(X_train, y_train) #training algoritma Simple Linear Regression"
   ]
  },
  {
   "cell_type": "markdown",
   "metadata": {},
   "source": [
    "### __Mencari Nilai Slope & Intercept__"
   ]
  },
  {
   "cell_type": "code",
   "execution_count": 25,
   "metadata": {},
   "outputs": [
    {
     "name": "stdout",
     "output_type": "stream",
     "text": [
      "[[4465.00904144]]\n",
      "[430332.09796865]\n"
     ]
    }
   ],
   "source": [
    "# Nilai Slope\n",
    "print(regressor.coef_)\n",
    "\n",
    "# Nilai intercept\n",
    "print(regressor.intercept_)"
   ]
  },
  {
   "cell_type": "markdown",
   "metadata": {},
   "source": [
    "## **``Y = mx + c``**\n",
    "\n",
    "- Y = variabel dependen / target / yang diprediksi\n",
    "- X = variabel independen / feature / yang memprediksi\n",
    "- m = slope\n",
    "- c = intercept/constanta\n",
    "\n",
    "## **``HargaRumah = (4465 x BuildingArea) + 430332 ``**"
   ]
  },
  {
   "cell_type": "code",
   "execution_count": 26,
   "metadata": {},
   "outputs": [
    {
     "name": "stdin",
     "output_type": "stream",
     "text": [
      "Berapa luas rumahmu:  400\n"
     ]
    },
    {
     "name": "stdout",
     "output_type": "stream",
     "text": [
      "Harga rumahmu: US$ 2216332\n"
     ]
    }
   ],
   "source": [
    "# Tebak harga rumah\n",
    "luas_rumah = int(input('Berapa luas rumahmu: '))\n",
    "\n",
    "print('Harga rumahmu: US$', (4465 * luas_rumah) + 430332)"
   ]
  },
  {
   "cell_type": "markdown",
   "metadata": {},
   "source": [
    "### __Membuat kolom y Predict (prediksi harga rumah)__"
   ]
  },
  {
   "cell_type": "code",
   "execution_count": 29,
   "metadata": {},
   "outputs": [],
   "source": [
    "y_pred = regressor.predict(X_test)"
   ]
  },
  {
   "cell_type": "code",
   "execution_count": 31,
   "metadata": {},
   "outputs": [
    {
     "data": {
      "text/html": [
       "<div>\n",
       "<style scoped>\n",
       "    .dataframe tbody tr th:only-of-type {\n",
       "        vertical-align: middle;\n",
       "    }\n",
       "\n",
       "    .dataframe tbody tr th {\n",
       "        vertical-align: top;\n",
       "    }\n",
       "\n",
       "    .dataframe thead th {\n",
       "        text-align: right;\n",
       "    }\n",
       "</style>\n",
       "<table border=\"1\" class=\"dataframe\">\n",
       "  <thead>\n",
       "    <tr style=\"text-align: right;\">\n",
       "      <th></th>\n",
       "      <th>Actual</th>\n",
       "      <th>Predicted</th>\n",
       "    </tr>\n",
       "  </thead>\n",
       "  <tbody>\n",
       "    <tr>\n",
       "      <th>0</th>\n",
       "      <td>815000.0</td>\n",
       "      <td>7.473477e+05</td>\n",
       "    </tr>\n",
       "    <tr>\n",
       "      <th>1</th>\n",
       "      <td>655000.0</td>\n",
       "      <td>7.428827e+05</td>\n",
       "    </tr>\n",
       "    <tr>\n",
       "      <th>2</th>\n",
       "      <td>957500.0</td>\n",
       "      <td>6.893026e+05</td>\n",
       "    </tr>\n",
       "    <tr>\n",
       "      <th>3</th>\n",
       "      <td>1330000.0</td>\n",
       "      <td>1.251894e+06</td>\n",
       "    </tr>\n",
       "    <tr>\n",
       "      <th>4</th>\n",
       "      <td>722000.0</td>\n",
       "      <td>8.232529e+05</td>\n",
       "    </tr>\n",
       "    <tr>\n",
       "      <th>...</th>\n",
       "      <td>...</td>\n",
       "      <td>...</td>\n",
       "    </tr>\n",
       "    <tr>\n",
       "      <th>1235</th>\n",
       "      <td>1460000.0</td>\n",
       "      <td>9.616682e+05</td>\n",
       "    </tr>\n",
       "    <tr>\n",
       "      <th>1236</th>\n",
       "      <td>900000.0</td>\n",
       "      <td>1.140269e+06</td>\n",
       "    </tr>\n",
       "    <tr>\n",
       "      <th>1237</th>\n",
       "      <td>1250000.0</td>\n",
       "      <td>1.216174e+06</td>\n",
       "    </tr>\n",
       "    <tr>\n",
       "      <th>1238</th>\n",
       "      <td>627500.0</td>\n",
       "      <td>8.098579e+05</td>\n",
       "    </tr>\n",
       "    <tr>\n",
       "      <th>1239</th>\n",
       "      <td>222000.0</td>\n",
       "      <td>5.598174e+05</td>\n",
       "    </tr>\n",
       "  </tbody>\n",
       "</table>\n",
       "<p>1240 rows × 2 columns</p>\n",
       "</div>"
      ],
      "text/plain": [
       "         Actual     Predicted\n",
       "0      815000.0  7.473477e+05\n",
       "1      655000.0  7.428827e+05\n",
       "2      957500.0  6.893026e+05\n",
       "3     1330000.0  1.251894e+06\n",
       "4      722000.0  8.232529e+05\n",
       "...         ...           ...\n",
       "1235  1460000.0  9.616682e+05\n",
       "1236   900000.0  1.140269e+06\n",
       "1237  1250000.0  1.216174e+06\n",
       "1238   627500.0  8.098579e+05\n",
       "1239   222000.0  5.598174e+05\n",
       "\n",
       "[1240 rows x 2 columns]"
      ]
     },
     "execution_count": 31,
     "metadata": {},
     "output_type": "execute_result"
    }
   ],
   "source": [
    "df1 = pd.DataFrame({'Actual': y_test.flatten(), 'Predicted': y_pred.flatten()})\n",
    "df1"
   ]
  },
  {
   "cell_type": "markdown",
   "metadata": {},
   "source": [
    "### __Visualisasi Perbandingan y_Actual dengan y_Predict__"
   ]
  },
  {
   "cell_type": "code",
   "execution_count": 32,
   "metadata": {},
   "outputs": [
    {
     "data": {
      "image/png": "[encoded data removed]",
      "text/plain": [
       "<Figure size 1152x576 with 1 Axes>"
      ]
     },
     "metadata": {},
     "output_type": "display_data"
    }
   ],
   "source": [
    "df2 = df1.head(20)\n",
    "df2.plot(kind='bar', figsize=(16, 8))\n",
    "plt.show()"
   ]
  },
  {
   "cell_type": "code",
   "execution_count": null,
   "metadata": {},
   "outputs": [],
   "source": [
    "TEBAK : 1.000.000.000\n",
    "ERROR :     5.000.000 --- harga rumah?\n",
    "ERROR :     5.000.000 --- harga smartphone?\n",
    "    \n",
    "ACTUAL: 955 juta - 1.005 miliar\n",
    "\n",
    "output error harus dimaknai dengan domain knowledge"
   ]
  },
  {
   "cell_type": "markdown",
   "metadata": {},
   "source": [
    "### __R-Squared__\n",
    "\n",
    "A metric you can use to quantify how much dependent variable variation your linear model explains is called R-Squared (R2). In other words, it evaluates how closely y values scatter around your regression line, the closer they are to your regression line the better.\n",
    "\n",
    "The range of R-Squared goes from 0% to 100%. The higher the R-Squared the better."
   ]
  },
  {
   "cell_type": "code",
   "execution_count": 33,
   "metadata": {},
   "outputs": [
    {
     "data": {
      "text/plain": [
       "0.2764987751461836"
      ]
     },
     "execution_count": 33,
     "metadata": {},
     "output_type": "execute_result"
    }
   ],
   "source": [
    "regressor.score(X, y)"
   ]
  },
  {
   "cell_type": "markdown",
   "metadata": {},
   "source": [
    "## __Interpreting Regression Coefficients__\n",
    "\n",
    "Be careful though, you can’t just use R-Squared to determine how good your model is. For example, your coefficients could be biased and you wouldn’t know by looking at R-Squared. And, if you have multiple independent variables it doesn’t tell you anything about them. \n",
    "\n",
    "This is an important step when performing a regression analysis. At the end of the day, the coefficients and intercepts are the values you are looking for in order to quantify the relationship. How do you know if the independent variable is truly predictive or not?\n",
    "\n",
    "To interpret the regression coefficients you must perform a hypothesis test of the coefficients. In a regression analysis, it goes as follows:\n",
    "\n",
    "-    __Null Hypothesis (H0)__: The coefficients are zero\n",
    "-    __Alternate Hypothesis (H1)__: The coefficients are NOT zero\n",
    "\n",
    "In other words, if the coefficients are truly zero, it means that the independent variable has no predictive power and should be tossed away. This hypothesis test is performed on all coefficients."
   ]
  },
  {
   "cell_type": "markdown",
   "metadata": {},
   "source": [
    "To test the coefficient’s null hypothesis we will be using the t statistic. Look at the **P>| t | column**. These are the **p-values** for the **t-test**. In short, if they are less than the desired significance (**commonly .05**), **you reject the null hypothesis**. Otherwise, you fail to reject the null and therefore should toss out that independent variable.\n",
    "\n",
    "Above, assuming a significance value of 0.05, our P-Value of 0.000 is much lower than a significance. Therefore, we reject the null hypothesis that the coefficient is equal to 0 and conclude that x1 is an important independent variable to utilize.\n",
    "\n",
    "If you had more independent variables they would be listed here and you would perform a similar test."
   ]
  },
  {
   "cell_type": "code",
   "execution_count": 34,
   "metadata": {},
   "outputs": [],
   "source": [
    "import statsmodels.api as sm"
   ]
  },
  {
   "cell_type": "code",
   "execution_count": 37,
   "metadata": {},
   "outputs": [
    {
     "name": "stdout",
     "output_type": "stream",
     "text": [
      "                                 OLS Regression Results                                \n",
      "=======================================================================================\n",
      "Dep. Variable:                      y   R-squared (uncentered):                   0.748\n",
      "Model:                            OLS   Adj. R-squared (uncentered):              0.748\n",
      "Method:                 Least Squares   F-statistic:                          1.834e+04\n",
      "Date:                Wed, 15 Jul 2020   Prob (F-statistic):                        0.00\n",
      "Time:                        11:09:58   Log-Likelihood:                         -91581.\n",
      "No. Observations:                6196   AIC:                                  1.832e+05\n",
      "Df Residuals:                    6195   BIC:                                  1.832e+05\n",
      "Df Model:                           1                                                  \n",
      "Covariance Type:            nonrobust                                                  \n",
      "==============================================================================\n",
      "                 coef    std err          t      P>|t|      [0.025      0.975]\n",
      "------------------------------------------------------------------------------\n",
      "x1          6498.3260     47.979    135.440      0.000    6404.270    6592.382\n",
      "==============================================================================\n",
      "Omnibus:                     6295.754   Durbin-Watson:                   1.525\n",
      "Prob(Omnibus):                  0.000   Jarque-Bera (JB):          4617582.285\n",
      "Skew:                          -4.106   Prob(JB):                         0.00\n",
      "Kurtosis:                     136.486   Cond. No.                         1.00\n",
      "==============================================================================\n",
      "\n",
      "Warnings:\n",
      "[1] Standard Errors assume that the covariance matrix of the errors is correctly specified.\n"
     ]
    }
   ],
   "source": [
    "est = sm.OLS(y, X)\n",
    "est2 = est.fit()\n",
    "print(est2.summary())"
   ]
  },
  {
   "cell_type": "markdown",
   "metadata": {},
   "source": [
    "<hr>\n",
    "\n",
    "# **Evaluation Metrics**\n",
    "\n",
    "The final step is to evaluate the performance of the algorithm. This step is particularly important to compare how well different algorithms perform on a particular dataset. For regression algorithms, three evaluation metrics are commonly used:\n",
    "\n",
    "### 1.    Mean Absolute Error (MAE)\n",
    "MAE is the mean of the absolute value of the errors. It is calculated as:\n",
    "\n",
    "<img src='c_img.png'>\n",
    "\n",
    "### 2. Mean Squared Error (MSE) \n",
    "MSE is the mean of the squared errors and is calculated as:\n",
    "\n",
    "<img src='d_img.png'>\n",
    "\n",
    "### 3. Root Mean Squared Error (RMSE) \n",
    "RMSE is the square root of the mean of the squared errors:\n",
    "\n",
    "<img src='e_img.gif'>\n",
    "\n",
    "Luckily, we don’t have to perform these calculations manually. The Scikit-Learn library comes with pre-built functions that can be used to find out these values for us."
   ]
  },
  {
   "cell_type": "code",
   "execution_count": 42,
   "metadata": {},
   "outputs": [
    {
     "name": "stdout",
     "output_type": "stream",
     "text": [
      "Mean Absolute Error (MAE):  391034.76766252646\n",
      "Mean Squared Error (MSE):  485969318728.79486\n",
      "Root Mean Squared Error (RMSE):  697114.9967751339\n",
      "Max Error:  11717440.234934734\n"
     ]
    }
   ],
   "source": [
    "print('Mean Absolute Error (MAE): ', metrics.mean_absolute_error(y_test, y_pred))\n",
    "print('Mean Squared Error (MSE): ', metrics.mean_squared_error(y_test, y_pred))\n",
    "print('Root Mean Squared Error (RMSE): ', np.sqrt(metrics.mean_squared_error(y_test, y_pred)))\n",
    "print('Max Error: ', metrics.max_error(y_test, y_pred))"
   ]
  },
  {
   "cell_type": "code",
   "execution_count": 57,
   "metadata": {},
   "outputs": [
    {
     "name": "stdout",
     "output_type": "stream",
     "text": [
      "65.22 %\n",
      "36.59 %\n",
      "1096.29 %\n"
     ]
    }
   ],
   "source": [
    "mean_price = df['Price'].mean()\n",
    "rmse = np.sqrt(metrics.mean_squared_error(y_test, y_pred))\n",
    "mae = metrics.mean_absolute_error(y_test, y_pred)\n",
    "maks = metrics.max_error(y_test, y_pred)\n",
    "\n",
    "print(round(rmse / mean_price * 100, 2), '%')\n",
    "print(round(mae / mean_price * 100, 2), '%')\n",
    "print(round(maks / mean_price * 100, 2), '%')"
   ]
  },
  {
   "cell_type": "code",
   "execution_count": 46,
   "metadata": {},
   "outputs": [
    {
     "name": "stdout",
     "output_type": "stream",
     "text": [
      "Med AE:  268389.96\n",
      "MSLE:  0.2\n",
      "RMSLE:  0.44685374788788235\n",
      "R2 Score:  0.11\n"
     ]
    }
   ],
   "source": [
    "print('Med AE: ', \n",
    "      round(metrics.median_absolute_error(y_test, y_pred), 2))\n",
    "print('MSLE: ', \n",
    "      round(metrics.mean_squared_log_error(y_test, y_pred), 2))\n",
    "print('RMSLE: ', \n",
    "      np.sqrt(metrics.mean_squared_log_error(y_test, y_pred)))\n",
    "print('R2 Score: ', \n",
    "      round(metrics.r2_score(y_test, y_pred), 2))"
   ]
  },
  {
   "cell_type": "code",
   "execution_count": 47,
   "metadata": {},
   "outputs": [
    {
     "data": {
      "text/plain": [
       "2.0"
      ]
     },
     "execution_count": 47,
     "metadata": {},
     "output_type": "execute_result"
    }
   ],
   "source": [
    "# MAE\n",
    "(2 + 2 + 2 + 2 + 2 + 2 + 2 + 2 + 2 + 2)/10"
   ]
  },
  {
   "cell_type": "code",
   "execution_count": 48,
   "metadata": {},
   "outputs": [
    {
     "data": {
      "text/plain": [
       "2.0"
      ]
     },
     "execution_count": 48,
     "metadata": {},
     "output_type": "execute_result"
    }
   ],
   "source": [
    "# RMSE\n",
    "np.sqrt(((2**2) + (2**2) + (2**2) + (2**2) + (2**2) + (2**2) + (2**2) + (2**2) + (2**2) + (2**2))/10)"
   ]
  },
  {
   "cell_type": "code",
   "execution_count": 49,
   "metadata": {},
   "outputs": [
    {
     "data": {
      "text/plain": [
       "6.5"
      ]
     },
     "execution_count": 49,
     "metadata": {},
     "output_type": "execute_result"
    }
   ],
   "source": [
    "# MAE\n",
    "(2 + 3 + 4 + 5 + 6 + 7 + 8 + 9 + 10 + 11)/10"
   ]
  },
  {
   "cell_type": "code",
   "execution_count": 50,
   "metadata": {},
   "outputs": [
    {
     "data": {
      "text/plain": [
       "7.106335201775948"
      ]
     },
     "execution_count": 50,
     "metadata": {},
     "output_type": "execute_result"
    }
   ],
   "source": [
    "# RMSE\n",
    "np.sqrt(((2**2) + (3**2) + (4**2) + (5**2) + (6**2) + (7**2) + (8**2) + (9**2) + (10**2) + (11**2))/10)"
   ]
  },
  {
   "cell_type": "markdown",
   "metadata": {},
   "source": [
    "<hr>\n",
    "\n",
    "# __Take Home Exercise__\n",
    "1. Dataset yang digunakan adalah melb_data.csv. X = Distance, Y = Price\n",
    "\n",
    "2. Buat beberapa percobaan untuk menemukan model SLR terbaik:\n",
    "\n",
    "3. ``Urutan percobaan 1 (train 80% test 20%)``:\n",
    "    \n",
    "    3.a) Distance = filling missing value\n",
    "    \n",
    "    3.b) Distance = langkah (a) + drop outlier\n",
    "    \n",
    "    3.c) Distance = langkah (a) + scalling\n",
    "    \n",
    "4. ``Urutan percobaan 2 (train 90% test 10%)``:\n",
    "    \n",
    "    4.a) Distance = filling missing value\n",
    "    \n",
    "    4.b) Distance = langkah (a) + drop outlier\n",
    "    \n",
    "    4.c) Distance = langkah (a) + scalling    \n",
    "    \n",
    "5. Di setiap percobaan tampilkan ``MAE, MSE, dan RMSE``\n",
    "\n",
    "6. Simpulkan percobaan mana yang memberikan error yang paling rendah?\n",
    "\n",
    "7. Kirim jawaban ke email saya: nurrokim@purwadhika.com"
   ]
  },
  {
   "cell_type": "markdown",
   "metadata": {},
   "source": [
    "## **Reference**\n",
    "* Nagesh Singh Chauhan, \"A beginner’s guide to Linear Regression in Python with Scikit-Learn\", https://towardsdatascience.com/a-beginners-guide-to-linear-regression-in-python-with-scikit-learn-83a8f7ae2b4f\n",
    "* Dataset source: https://www.kaggle.com/usaf/world-war-ii\n",
    "* Adi Bronshtein, \"Simple and Multiple Linear Regression in Python\", https://towardsdatascience.com/simple-and-multiple-linear-regression-in-python-c928425168f9\n",
    "* GeeksforGeeks, \"Linear Regression (Python Implementation)\", https://www.geeksforgeeks.org/linear-regression-python-implementation/\n",
    "* InsightsBot, \"Python Linear Regression Analysis\", https://www.insightsbot.com/python-linear-regression-analysis/\n",
    "* InsightBot, \"Assumptions of Linear Regression with Python\", https://www.insightsbot.com/assumptions-of-linear-regression-with-python/"
   ]
  }
 ],
 "metadata": {
  "kernelspec": {
   "display_name": "Python 3.8.1 32-bit",
   "language": "python",
   "name": "python38132bitf9f79e71b62e4503b25567c1d3914456"
  },
  "language_info": {
   "codemirror_mode": {
    "name": "ipython",
    "version": 3
   },
   "file_extension": ".py",
   "mimetype": "text/x-python",
   "name": "python",
   "nbconvert_exporter": "python",
   "pygments_lexer": "ipython3",
   "version": "3.8.1"
  }
 },
 "nbformat": 4,
 "nbformat_minor": 4
}
